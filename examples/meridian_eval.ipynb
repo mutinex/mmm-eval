{
 "cells": [
  {
   "cell_type": "code",
   "execution_count": null,
   "id": "a5a3428e-9a5a-44c0-b5c3-ae1190c417fb",
   "metadata": {},
   "outputs": [],
   "source": [
    "import numpy as np\n",
    "import pandas as pd\n",
    "import tensorflow_probability as tfp\n",
    "\n",
    "from meridian import constants\n",
    "from meridian.data import data_frame_input_data_builder as data_builder\n",
    "from meridian.model import model\n",
    "from meridian.model import spec\n",
    "from meridian.model import prior_distribution\n",
    "\n",
    "from mmm_eval import (\n",
    "    MeridianConfig, MeridianInputDataBuilderSchema, run_evaluation)\n",
    "\n",
    "import meridian"
   ]
  },
  {
   "cell_type": "markdown",
   "id": "e6f8eba9-e228-4e87-971f-df8c2a960de5",
   "metadata": {},
   "source": [
    "## Load your data\n",
    "\n",
    "The data below comes from the Meridian repository and gives a great example of how the data should be formatted."
   ]
  },
  {
   "cell_type": "code",
   "execution_count": null,
   "id": "f465a140-dc11-4b35-8b9a-fc2a8989c7b8",
   "metadata": {},
   "outputs": [],
   "source": [
    "df = pd.read_excel(\n",
    "    'https://github.com/google/meridian/raw/main/meridian/data/simulated_data/xlsx/geo_media.xlsx',\n",
    "    engine='openpyxl',\n",
    ")"
   ]
  },
  {
   "cell_type": "code",
   "execution_count": null,
   "id": "2366ac88-e113-40c9-9b18-6a92ac450ff9",
   "metadata": {},
   "outputs": [],
   "source": [
    "builder = (\n",
    "    data_builder.DataFrameInputDataBuilder(kpi_type='non_revenue')\n",
    "        .with_kpi(df, kpi_col=\"conversions\")\n",
    "        .with_revenue_per_kpi(df, revenue_per_kpi_col=\"revenue_per_conversion\")\n",
    "        .with_population(df)\n",
    "        .with_controls(df, control_cols=[\"GQV\", \"Discount\", \"Competitor_Sales\"])\n",
    ")\n",
    "channels = [\"Channel0\", \"Channel1\", \"Channel2\", \"Channel3\", \"Channel4\", \"Channel5\"]\n",
    "builder = builder.with_media(\n",
    "    df,\n",
    "    media_cols=[f\"{channel}_impression\" for channel in channels],\n",
    "    media_spend_cols=[f\"{channel}_spend\" for channel in channels],\n",
    "    media_channels=channels,\n",
    ")\n",
    "\n",
    "data = builder.build()"
   ]
  },
  {
   "cell_type": "markdown",
   "id": "cb722474-5b95-4bbe-95dd-d8e436d000d8",
   "metadata": {},
   "source": [
    "## Define a Meridian MMM"
   ]
  },
  {
   "cell_type": "code",
   "execution_count": null,
   "id": "6eb76f3e-3f14-4fb5-91a7-7cdb5c73ccb8",
   "metadata": {},
   "outputs": [],
   "source": [
    "roi_mu = 0.2     # Mu for ROI prior for each media channel.\n",
    "roi_sigma = 0.9  # Sigma for ROI prior for each media channel.\n",
    "prior = prior_distribution.PriorDistribution(\n",
    "    roi_m=tfp.distributions.LogNormal(roi_mu, roi_sigma, name=constants.ROI_M)\n",
    ")\n",
    "model_spec = spec.ModelSpec(prior=prior)\n",
    "# sampling from the posterior is not required prior to evaluation\n",
    "mmm = model.Meridian(input_data=data, model_spec=model_spec)"
   ]
  },
  {
   "cell_type": "markdown",
   "id": "3b75f1a7-18df-409f-83a9-445d5a4c72b6",
   "metadata": {},
   "source": [
    "# I wonder if this MMM is any good... let's check!\n",
    "\n",
    "First, you will need to specify how the MMM should be built to match the `DataFrameInputDataBuilder` logic above.\n",
    "\n",
    "See the [Meridian data loading documentation](https://developers.google.com/meridian/docs/user-guide/supported-data-types-formats?hl=en) if you need more guidance."
   ]
  },
  {
   "cell_type": "markdown",
   "id": "2ecb1a9c-347d-49d0-be0a-593fdde68ade",
   "metadata": {},
   "source": [
    "### Preprocess data\n",
    "\n",
    "We preprocess the data in two ways:\n",
    "\n",
    "- calculate revenue from \"revenue_per_conversion\" as `mmm-eval` expects revenue, not revenue per KPI\n",
    "- restricting dates and geos to reduce runtime"
   ]
  },
  {
   "cell_type": "code",
   "execution_count": null,
   "id": "b2b7a22b-26df-4624-b7f4-352f232719c3",
   "metadata": {},
   "outputs": [],
   "source": [
    "data_preproc = df.copy()\n",
    "data_preproc[\"revenue\"] = data_preproc[\"revenue_per_conversion\"]*data_preproc[\"conversions\"]\n",
    "\n",
    "# restrict to only two geos\n",
    "data_preproc = data_preproc[data_preproc[\"geo\"].isin([\"Geo0\", \"Geo1\"])]\n",
    "\n",
    "# restrict to only post-2023\n",
    "data_preproc = data_preproc[pd.to_datetime(data_preproc[\"time\"]) > pd.Timestamp(\"2023-01-01\")]"
   ]
  },
  {
   "cell_type": "code",
   "execution_count": null,
   "id": "c6bc7fb8-8721-436a-9b16-3b3836d0f80b",
   "metadata": {},
   "outputs": [],
   "source": [
    "channels = [\"Channel0\", \"Channel1\", \"Channel2\", \"Channel3\", \"Channel4\", \"Channel5\"]\n",
    "input_data_builder_config = MeridianInputDataBuilderSchema(\n",
    "    date_column=\"time\",\n",
    "    media_channels=channels,\n",
    "    channel_spend_columns=[f\"{col}_spend\" for col in channels],\n",
    "    channel_impressions_columns=[f\"{col}_impression\" for col in channels],\n",
    "    response_column=\"conversions\",\n",
    "    control_columns=[\"GQV\", \"Competitor_Sales\", \"Discount\"],\n",
    ")"
   ]
  },
  {
   "cell_type": "code",
   "execution_count": null,
   "id": "12a4441e-08a9-4b51-8351-763598bef139",
   "metadata": {},
   "outputs": [],
   "source": [
    "# specify a larger number of samples if you want quality results\n",
    "sample_posterior_kwargs = dict(n_chains=1, n_adapt=10, n_burnin=10, n_keep=10)\n",
    "config = MeridianConfig.from_model_object(mmm, input_data_builder_config=input_data_builder_config,\n",
    "                                          revenue_column=\"revenue\", sample_posterior_kwargs=sample_posterior_kwargs)"
   ]
  },
  {
   "cell_type": "code",
   "execution_count": null,
   "id": "7a1ef272-ee4a-4cb6-966b-0cc44789feda",
   "metadata": {},
   "outputs": [],
   "source": [
    "# Run the evaluation suite!\n",
    "result = run_evaluation(framework=\"meridian\", config=config, data=data_preproc)"
   ]
  },
  {
   "cell_type": "markdown",
   "id": "70d4a0f6-7ac9-4991-ace0-b9a3bc1f126e",
   "metadata": {},
   "source": [
    "## Examine the results"
   ]
  },
  {
   "cell_type": "code",
   "execution_count": null,
   "id": "3d462c6d-fac5-47f8-bf8a-18feda520c80",
   "metadata": {},
   "outputs": [],
   "source": [
    "# Let's see what we got\n",
    "display(result)"
   ]
  },
  {
   "cell_type": "code",
   "execution_count": null,
   "id": "50a3bea8-4fbf-4db6-bd2d-ecf29e554af5",
   "metadata": {},
   "outputs": [],
   "source": []
  }
 ],
 "metadata": {
  "kernelspec": {
   "display_name": "Python 3 (ipykernel)",
   "language": "python",
   "name": "python3"
  },
  "language_info": {
   "codemirror_mode": {
    "name": "ipython",
    "version": 3
   },
   "file_extension": ".py",
   "mimetype": "text/x-python",
   "name": "python",
   "nbconvert_exporter": "python",
   "pygments_lexer": "ipython3",
   "version": "3.11.8"
  }
 },
 "nbformat": 4,
 "nbformat_minor": 5
}
