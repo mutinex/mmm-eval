{
 "cells": [
  {
   "cell_type": "code",
   "execution_count": null,
   "metadata": {},
   "outputs": [],
   "source": [
    "%load_ext autoreload\n",
    "%autoreload 2\n",
    "\n",
    "import pandas as pd\n",
    "\n",
    "from pymc_marketing.mmm import MMM, GeometricAdstock, LogisticSaturation\n",
    "from mmm_eval import PyMCConfig, run_evaluation"
   ]
  },
  {
   "cell_type": "markdown",
   "metadata": {},
   "source": [
    "# Load your data"
   ]
  },
  {
   "cell_type": "code",
   "execution_count": null,
   "metadata": {},
   "outputs": [],
   "source": [
    "# Load your data - we have a revenue column and a response column (quantity)\n",
    "data = pd.read_csv(\"data/example_data.csv\")\n",
    "data.head()"
   ]
  },
  {
   "cell_type": "markdown",
   "metadata": {},
   "source": [
    "# Fit a PyMC MMM"
   ]
  },
  {
   "cell_type": "code",
   "execution_count": null,
   "metadata": {},
   "outputs": [],
   "source": [
    "# Fit a pymc model\n",
    "\n",
    "X = data.drop(columns=[\"revenue\",\"quantity\"])\n",
    "y = data[\"quantity\"]\n",
    "\n",
    "base_model = MMM(\n",
    "    date_column=\"date_week\" ,\n",
    "    channel_columns=[\"TV\",\"radio\"],\n",
    "    adstock=GeometricAdstock(l_max=4),\n",
    "    saturation=LogisticSaturation()\n",
    ")\n",
    "\n",
    "base_model.fit(X=X, y=y, chains=4, target_accept=0.85)"
   ]
  },
  {
   "cell_type": "markdown",
   "metadata": {},
   "source": [
    "# I wonder if this MMM is any good... let's check!"
   ]
  },
  {
   "cell_type": "code",
   "execution_count": null,
   "metadata": {},
   "outputs": [],
   "source": [
    "# We just need to make a config using the model object and some fit kwargs\n",
    "\n",
    "fit_kwargs = { \n",
    "    \"chains\": 4,\n",
    "    \"target_accept\": 0.85,\n",
    "}\n",
    "\n",
    "config = PyMCConfig.from_model_object(base_model, fit_kwargs=fit_kwargs, response_column=\"quantity\", revenue_column=\"revenue\")\n",
    "\n",
    "# Save this for later if you want to run from CLI!\n",
    "config.save_model_object_to_json(save_path=\"data/\", file_name=\"saved_config\")"
   ]
  },
  {
   "cell_type": "code",
   "execution_count": null,
   "metadata": {},
   "outputs": [],
   "source": [
    "# Run the evaluation suite!\n",
    "result = run_evaluation(framework=\"pymc_marketing\", config=config, data=data)"
   ]
  },
  {
   "cell_type": "markdown",
   "metadata": {},
   "source": [
    "# Examine the results"
   ]
  },
  {
   "cell_type": "code",
   "execution_count": null,
   "metadata": {},
   "outputs": [],
   "source": [
    "# Let's see what we got\n",
    "display(result)"
   ]
  },
  {
   "cell_type": "code",
   "execution_count": null,
   "metadata": {},
   "outputs": [],
   "source": []
  },
  {
   "cell_type": "code",
   "execution_count": null,
   "metadata": {},
   "outputs": [],
   "source": []
  }
 ],
 "metadata": {
  "kernelspec": {
   "display_name": "Python 3 (ipykernel)",
   "language": "python",
   "name": "python3"
  },
  "language_info": {
   "codemirror_mode": {
    "name": "ipython",
    "version": 3
   },
   "file_extension": ".py",
   "mimetype": "text/x-python",
   "name": "python",
   "nbconvert_exporter": "python",
   "pygments_lexer": "ipython3",
   "version": "3.11.8"
  }
 },
 "nbformat": 4,
 "nbformat_minor": 4
}
