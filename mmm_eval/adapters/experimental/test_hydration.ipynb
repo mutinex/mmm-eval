{
 "cells": [
  {
   "cell_type": "code",
   "execution_count": null,
   "metadata": {},
   "outputs": [],
   "source": [
    "import numpy as np\n",
    "import pandas as pd\n",
    "\n",
    "from pymc_marketing.mmm import MMM, GeometricAdstock, LogisticSaturation\n",
    "from pymc_marketing.mmm.transformers import geometric_adstock, logistic_saturation\n",
    "from pymc_marketing.prior import Prior\n",
    "from mmm_eval import save_config\n",
    "from mmm_eval.data import generate_data\n",
    "\n",
    "from mmm_eval.utils import PyMCConfigRehydrator\n",
    "from mmm_eval.cli.evaluate import load_config\n",
    "\n"
   ]
  },
  {
   "cell_type": "code",
   "execution_count": 2,
   "metadata": {},
   "outputs": [],
   "source": [
    "def verify_hydration(config):\n",
    "    from pymc_marketing.mmm.components.adstock import AdstockTransformation\n",
    "    from pymc_marketing.mmm.components.saturation import SaturationTransformation\n",
    "    \n",
    "    class_map = {\n",
    "        \"adstock\": AdstockTransformation,\n",
    "        \"saturation\": SaturationTransformation,\n",
    "    }\n",
    "\n",
    "    for k, v in config[\"model_config\"].items():\n",
    "        if k in class_map:\n",
    "            assert isinstance(v, class_map[k]), f\"Expected {k} to be {class_map[k]}, got {type(v)}\""
   ]
  },
  {
   "cell_type": "markdown",
   "metadata": {},
   "source": [
    "# Generate data"
   ]
  },
  {
   "cell_type": "code",
   "execution_count": 3,
   "metadata": {},
   "outputs": [],
   "source": [
    "data = generate_data()\n",
    "data.to_csv(\"data.csv\", index=False)\n",
    "\n",
    "X = data.drop(columns=[\"revenue\",\"quantity\"])\n",
    "y = data[\"quantity\"]"
   ]
  },
  {
   "cell_type": "markdown",
   "metadata": {},
   "source": [
    "# Fit PyMC"
   ]
  },
  {
   "cell_type": "code",
   "execution_count": null,
   "metadata": {},
   "outputs": [],
   "source": [
    "my_model = MMM(\n",
    "    date_column=\"date_week\" ,\n",
    "    channel_columns=[\"channel_1\",\"channel_2\"],\n",
    "    adstock=GeometricAdstock(l_max=4),\n",
    "    saturation=LogisticSaturation()\n",
    ")\n",
    "\n",
    "my_model.fit(X=X, y=y, chains=4, target_accept=0.85)"
   ]
  },
  {
   "cell_type": "markdown",
   "metadata": {},
   "source": [
    "# Save Config to JSON\n",
    "\n",
    "Copy the args for MMM() and .fit() into dict structure. Loader will handle string representation.\n",
    "Need to provide target column name b/c all columns will be in one CSV in the input data."
   ]
  },
  {
   "cell_type": "code",
   "execution_count": null,
   "metadata": {},
   "outputs": [],
   "source": [
    "model_args = {\n",
    "    \"date_column\": \"date_week\",\n",
    "    \"channel_columns\": [\"channel_1\", \"channel_2\"],\n",
    "    \"adstock\": GeometricAdstock(l_max=4),\n",
    "    \"saturation\": LogisticSaturation()\n",
    "}\n",
    "\n",
    "fit_args = {\n",
    "    \"X\": X,  \n",
    "    \"y\": y,   \n",
    "    \"chains\": 4,\n",
    "    \"target_accept\": 0.85,\n",
    "}\n",
    "\n",
    "target_column = \"revenue\"\n",
    "\n",
    "string_config = save_config(model_args, fit_args, target_column=target_column, save_path=\"./\", file_name=\"config\")\n",
    "string_config"
   ]
  },
  {
   "cell_type": "markdown",
   "metadata": {},
   "source": [
    "# Rehydrate from saved config"
   ]
  },
  {
   "cell_type": "code",
   "execution_count": null,
   "metadata": {},
   "outputs": [],
   "source": [
    "loaded_config = load_config(\"config.json\")\n",
    "\n",
    "# This should fail (still all strings)\n",
    "verify_hydration(loaded_config)"
   ]
  },
  {
   "cell_type": "code",
   "execution_count": 31,
   "metadata": {},
   "outputs": [],
   "source": [
    "rehydrated = PyMCConfigRehydrator(loaded_config.copy()).rehydrate_config()\n",
    "\n",
    "# This should pass\n",
    "verify_hydration(rehydrated)"
   ]
  },
  {
   "cell_type": "markdown",
   "metadata": {},
   "source": [
    "# Fit a model with the input data + rehydrated config"
   ]
  },
  {
   "cell_type": "code",
   "execution_count": 32,
   "metadata": {},
   "outputs": [],
   "source": [
    "import pandas as pd\n",
    "\n",
    "df = pd.read_csv(\"data.csv\")\n",
    "df[\"date_week\"] = pd.to_datetime(df[\"date_week\"])\n",
    "\n",
    "model_config = rehydrated[\"model_config\"]\n",
    "fit_config = rehydrated[\"fit_config\"]\n",
    "target_column = rehydrated[\"target_column\"]\n",
    "\n",
    "X = df.drop(columns=[target_column])\n",
    "y = df[target_column]"
   ]
  },
  {
   "cell_type": "code",
   "execution_count": null,
   "metadata": {},
   "outputs": [],
   "source": [
    "model_config"
   ]
  },
  {
   "cell_type": "code",
   "execution_count": 34,
   "metadata": {},
   "outputs": [],
   "source": [
    "date_column = eval(model_config[\"date_column\"])\n",
    "channel_columns = list(eval(model_config[\"channel_columns\"]))\n",
    "adstock = model_config[\"adstock\"]\n",
    "saturation = model_config[\"saturation\"]\n",
    "\n",
    "m2 = MMM(\n",
    "    date_column=date_column,\n",
    "    channel_columns=channel_columns,\n",
    "    adstock=adstock,\n",
    "    saturation=saturation\n",
    ")\n"
   ]
  },
  {
   "cell_type": "code",
   "execution_count": null,
   "metadata": {},
   "outputs": [],
   "source": [
    "chains = int(eval(fit_config[\"chains\"]))\n",
    "target_accept = float(fit_config[\"target_accept\"])\n",
    "\n",
    "m2.fit(X=X, y=y, chains=chains, target_accept=target_accept)"
   ]
  },
  {
   "cell_type": "code",
   "execution_count": null,
   "metadata": {},
   "outputs": [],
   "source": []
  }
 ],
 "metadata": {
  "kernelspec": {
   "display_name": ".venv",
   "language": "python",
   "name": "python3"
  },
  "language_info": {
   "codemirror_mode": {
    "name": "ipython",
    "version": 3
   },
   "file_extension": ".py",
   "mimetype": "text/x-python",
   "name": "python",
   "nbconvert_exporter": "python",
   "pygments_lexer": "ipython3",
   "version": "3.11.9"
  }
 },
 "nbformat": 4,
 "nbformat_minor": 2
}
