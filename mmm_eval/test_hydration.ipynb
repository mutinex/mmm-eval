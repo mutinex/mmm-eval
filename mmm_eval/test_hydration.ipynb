{
 "cells": [
  {
   "cell_type": "code",
   "execution_count": 40,
   "metadata": {},
   "outputs": [],
   "source": [
    "import numpy as np\n",
    "import pandas as pd\n",
    "\n",
    "from pymc_marketing.mmm import MMM, GeometricAdstock, LogisticSaturation\n",
    "from mmm_eval.data import generate_data\n",
    "from mmm_eval.configs import PyMCConfig\n",
    "from pymc_marketing.prior import Prior"
   ]
  },
  {
   "cell_type": "markdown",
   "metadata": {},
   "source": [
    "# Generate data"
   ]
  },
  {
   "cell_type": "code",
   "execution_count": 41,
   "metadata": {},
   "outputs": [],
   "source": [
    "data = generate_data()\n",
    "data.to_csv(\"data.csv\", index=False)\n",
    "\n",
    "X = data.drop(columns=[\"revenue\",\"quantity\"])\n",
    "y = data[\"quantity\"]"
   ]
  },
  {
   "cell_type": "markdown",
   "metadata": {},
   "source": [
    "# Fit a PyMC Model"
   ]
  },
  {
   "cell_type": "code",
   "execution_count": null,
   "metadata": {},
   "outputs": [],
   "source": [
    "base_model = MMM(\n",
    "    date_column=\"date_week\" ,\n",
    "    channel_columns=[\"channel_1\",\"channel_2\"],\n",
    "    adstock=GeometricAdstock(l_max=4),\n",
    "    saturation=LogisticSaturation()\n",
    ")\n",
    "\n",
    "base_model.fit(X=X, y=y, chains=4, target_accept=0.85)"
   ]
  },
  {
   "cell_type": "markdown",
   "metadata": {},
   "source": [
    "# Create a config\n",
    "\n",
    "To run the evaluation suite, we need to store the configuration used to create the original model.\n",
    "\n",
    "To do this, we create a `PyMCConfig` object"
   ]
  },
  {
   "cell_type": "code",
   "execution_count": 43,
   "metadata": {},
   "outputs": [],
   "source": [
    "# We dont need X and y - we'll get those from the input data!\n",
    "fit_kwargs = { \n",
    "    \"chains\": 4,\n",
    "    \"target_accept\": 0.85,\n",
    "}\n",
    "\n",
    "base_config = PyMCConfig(base_model, fit_kwargs=fit_kwargs, target_column=\"quantity\")"
   ]
  },
  {
   "cell_type": "markdown",
   "metadata": {},
   "source": [
    "# Check that we can use the config to fit a PyMC MMM model"
   ]
  },
  {
   "cell_type": "code",
   "execution_count": null,
   "metadata": {},
   "outputs": [],
   "source": [
    "m1 = MMM(**base_config.model_config.config)\n",
    "m1.fit(X=X, y=y,**base_config.fit_config.config)"
   ]
  },
  {
   "cell_type": "markdown",
   "metadata": {},
   "source": [
    "# Test a more complex config"
   ]
  },
  {
   "cell_type": "code",
   "execution_count": null,
   "metadata": {},
   "outputs": [],
   "source": [
    "total_spend_per_channel = data[[\"channel_1\", \"channel_2\"]].sum(axis=0)\n",
    "\n",
    "spend_share = total_spend_per_channel / total_spend_per_channel.sum()\n",
    "n_channels = 2\n",
    "prior_sigma = n_channels * spend_share.to_numpy()\n",
    "\n",
    "model_config = my_model_config = {\n",
    "    \"intercept\": Prior(\"Normal\", mu=0.5, sigma=0.2),\n",
    "    \"saturation_beta\": Prior(\"HalfNormal\", sigma=prior_sigma),\n",
    "    \"gamma_control\": Prior(\"Normal\", mu=0, sigma=0.05),\n",
    "    \"gamma_fourier\": Prior(\"Laplace\", mu=0, b=0.2),\n",
    "}\n",
    "\n",
    "config = {\n",
    "    \"date_column\": \"date_week\",\n",
    "    \"channel_columns\": [\"channel_1\", \"channel_2\"],\n",
    "    \"control_columns\": [\"price\", \"event_1\", \"event_2\"],\n",
    "    \"adstock\": GeometricAdstock(l_max=4),  # or DelayedAdstock(), etc.\n",
    "    \"saturation\": LogisticSaturation(),\n",
    "    \"yearly_seasonality\": 2,\n",
    "    \"model_config\": model_config,\n",
    "}\n",
    "\n",
    "m1 = MMM(**config)\n",
    "\n",
    "m1.fit(X=X, y=y, chains=4, target_accept=0.85)"
   ]
  },
  {
   "cell_type": "code",
   "execution_count": null,
   "metadata": {},
   "outputs": [],
   "source": [
    "config1 = PyMCConfig(m1, fit_kwargs=fit_kwargs, target_column=\"quantity\")\n",
    "\n",
    "m2 = MMM(**config1.model_config.config)\n",
    "m2.fit(X=X, y=y, **config1.fit_config.config)"
   ]
  },
  {
   "cell_type": "markdown",
   "metadata": {},
   "source": [
    "# Save the config to JSON"
   ]
  },
  {
   "cell_type": "code",
   "execution_count": null,
   "metadata": {},
   "outputs": [],
   "source": [
    "config1.save_config(save_path=\"tmp/\", file_name=\"config1\")"
   ]
  },
  {
   "cell_type": "markdown",
   "metadata": {},
   "source": [
    "# And load it in a new instantiation"
   ]
  },
  {
   "cell_type": "code",
   "execution_count": null,
   "metadata": {},
   "outputs": [],
   "source": [
    "loaded_config = PyMCConfig().load_config(\"tmp/config1.json\")\n",
    "loaded_config.model_config.config"
   ]
  },
  {
   "cell_type": "markdown",
   "metadata": {},
   "source": [
    "# Check if we can run the model from the loaded config"
   ]
  },
  {
   "cell_type": "code",
   "execution_count": null,
   "metadata": {},
   "outputs": [],
   "source": [
    "m3 = MMM(**loaded_config.model_config.config)\n",
    "m3.fit(X=X, y=y, **loaded_config.fit_config.config)"
   ]
  }
 ],
 "metadata": {
  "kernelspec": {
   "display_name": ".venv",
   "language": "python",
   "name": "python3"
  },
  "language_info": {
   "codemirror_mode": {
    "name": "ipython",
    "version": 3
   },
   "file_extension": ".py",
   "mimetype": "text/x-python",
   "name": "python",
   "nbconvert_exporter": "python",
   "pygments_lexer": "ipython3",
   "version": "3.11.9"
  }
 },
 "nbformat": 4,
 "nbformat_minor": 2
}
