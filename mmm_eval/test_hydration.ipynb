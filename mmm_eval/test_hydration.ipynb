{
 "cells": [
  {
   "cell_type": "code",
   "execution_count": 3,
   "metadata": {},
   "outputs": [],
   "source": [
    "import numpy as np\n",
    "import pandas as pd\n",
    "\n",
    "from pymc_marketing.mmm import MMM, GeometricAdstock, LogisticSaturation\n",
    "from mmm_eval.data import generate_data\n",
    "from mmm_eval.configs import PyMCConfig"
   ]
  },
  {
   "cell_type": "markdown",
   "metadata": {},
   "source": [
    "# Generate data"
   ]
  },
  {
   "cell_type": "code",
   "execution_count": 4,
   "metadata": {},
   "outputs": [],
   "source": [
    "data = generate_data()\n",
    "data.to_csv(\"data.csv\", index=False)\n",
    "\n",
    "X = data.drop(columns=[\"revenue\",\"quantity\"])\n",
    "y = data[\"quantity\"]"
   ]
  },
  {
   "cell_type": "markdown",
   "metadata": {},
   "source": [
    "# Fit a PyMC Model"
   ]
  },
  {
   "cell_type": "code",
   "execution_count": null,
   "metadata": {},
   "outputs": [],
   "source": [
    "my_model = MMM(\n",
    "    date_column=\"date_week\" ,\n",
    "    channel_columns=[\"channel_1\",\"channel_2\"],\n",
    "    adstock=GeometricAdstock(l_max=4),\n",
    "    saturation=LogisticSaturation()\n",
    ")\n",
    "\n",
    "my_model.fit(X=X, y=y, chains=4, target_accept=0.85)"
   ]
  },
  {
   "cell_type": "markdown",
   "metadata": {},
   "source": [
    "# Create a config\n",
    "\n",
    "To run the evaluation suite, we need to store the configuration used to create the original model.\n",
    "\n",
    "To do this, we create a `PyMCConfig` object"
   ]
  },
  {
   "cell_type": "code",
   "execution_count": 6,
   "metadata": {},
   "outputs": [],
   "source": [
    "# We dont need X and y - we'll get those from the input data!\n",
    "fit_kwargs = { \n",
    "    \"chains\": 4,\n",
    "    \"target_accept\": 0.85,\n",
    "}\n",
    "\n",
    "pymc_config = PyMCConfig(my_model, fit_kwargs=fit_kwargs, target_column=\"quantity\")"
   ]
  },
  {
   "cell_type": "markdown",
   "metadata": {},
   "source": [
    "# Check that we can use the config to fit a PyMC MMM model"
   ]
  },
  {
   "cell_type": "code",
   "execution_count": null,
   "metadata": {},
   "outputs": [],
   "source": [
    "m2 = MMM(**pymc_config.model_config.config)\n",
    "m2.fit(X=X, y=y,**pymc_config.fit_config.config)"
   ]
  },
  {
   "cell_type": "markdown",
   "metadata": {},
   "source": [
    "# Save the config to JSON"
   ]
  },
  {
   "cell_type": "code",
   "execution_count": null,
   "metadata": {},
   "outputs": [],
   "source": [
    "pymc_config.save_config(save_path=\"tmp/\", file_name=\"my_config\")"
   ]
  },
  {
   "cell_type": "markdown",
   "metadata": {},
   "source": [
    "# And load it in a new instantiation"
   ]
  },
  {
   "cell_type": "code",
   "execution_count": null,
   "metadata": {},
   "outputs": [],
   "source": [
    "loaded_config = PyMCConfig().load_config(\"tmp/my_config.json\")\n",
    "loaded_config.model_config.config"
   ]
  },
  {
   "cell_type": "markdown",
   "metadata": {},
   "source": [
    "# Check if we can run the model from the loaded config"
   ]
  },
  {
   "cell_type": "code",
   "execution_count": null,
   "metadata": {},
   "outputs": [],
   "source": [
    "m3 = MMM(**loaded_config.model_config.config)\n",
    "m3.fit(X=X, y=y, **loaded_config.fit_config.config)"
   ]
  }
 ],
 "metadata": {
  "kernelspec": {
   "display_name": ".venv",
   "language": "python",
   "name": "python3"
  },
  "language_info": {
   "codemirror_mode": {
    "name": "ipython",
    "version": 3
   },
   "file_extension": ".py",
   "mimetype": "text/x-python",
   "name": "python",
   "nbconvert_exporter": "python",
   "pygments_lexer": "ipython3",
   "version": "3.11.9"
  }
 },
 "nbformat": 4,
 "nbformat_minor": 2
}
