{
 "cells": [
  {
   "cell_type": "code",
   "execution_count": 1,
   "metadata": {},
   "outputs": [],
   "source": [
    "%load_ext autoreload\n",
    "%autoreload 2\n",
    "\n",
    "import pandas as pd\n",
    "\n",
    "from pymc_marketing.mmm import MMM, GeometricAdstock, LogisticSaturation\n",
    "from mmm_eval.data.synth_data_generator import generate_data\n",
    "from mmm_eval.configs import PyMCConfig\n",
    "from pymc_marketing.prior import Prior\n",
    "from mmm_eval import run_evaluation"
   ]
  },
  {
   "cell_type": "code",
   "execution_count": 2,
   "metadata": {},
   "outputs": [],
   "source": [
    "data = generate_data()\n",
    "\n",
    "X = data.drop(columns=[\"revenue\",\"quantity\"])\n",
    "y = data[\"quantity\"]"
   ]
  },
  {
   "cell_type": "code",
   "execution_count": 3,
   "metadata": {},
   "outputs": [],
   "source": [
    "base_model = MMM(\n",
    "    date_column=\"date_week\" ,\n",
    "    channel_columns=[\"channel_1\",\"channel_2\"],\n",
    "    adstock=GeometricAdstock(l_max=4),\n",
    "    saturation=LogisticSaturation()\n",
    ")\n",
    "\n",
    "# base_model.fit(X=X, y=y, chains=4, target_accept=0.85)\n",
    "\n"
   ]
  },
  {
   "cell_type": "code",
   "execution_count": 4,
   "metadata": {},
   "outputs": [],
   "source": [
    "# We dont need X and y - we'll get those from the input data!\n",
    "fit_kwargs = { \n",
    "    \"chains\": 4,\n",
    "    \"target_accept\": 0.85,\n",
    "}\n",
    "\n",
    "base_config = PyMCConfig.from_model_object(base_model, fit_kwargs=fit_kwargs, response_column=\"quantity\", revenue_column=\"revenue\")"
   ]
  },
  {
   "cell_type": "code",
   "execution_count": 5,
   "metadata": {},
   "outputs": [
    {
     "data": {
      "text/plain": [
       "PyMCConfig(revenue_column='revenue', response_column='quantity', pymc_model_config=PyMCModelSchema(date_column='date_week', channel_columns=['channel_1', 'channel_2'], adstock=GeometricAdstock(prefix='adstock', l_max=4, normalize=True, mode='After', priors={'alpha': Prior(\"Beta\", alpha=1, beta=3, dims=\"channel\")}), saturation=LogisticSaturation(prefix='saturation', priors={'lam': Prior(\"Gamma\", alpha=3, beta=1, dims=\"channel\"), 'beta': Prior(\"HalfNormal\", sigma=2, dims=\"channel\")}), time_varying_intercept=False, time_varying_media=False, sampler_config={}, validate_data=True, control_columns=None, yearly_seasonality=None, adstock_first=True, dag=None, treatment_nodes=None, outcome_node=None), fit_config=PyMCFitSchema(draws=None, tune=None, chains=4, target_accept=0.85, random_seed=None, progressbar=False, return_inferencedata=True), date_column='date_week', channel_columns=['channel_1', 'channel_2'], control_columns=None)"
      ]
     },
     "execution_count": 5,
     "metadata": {},
     "output_type": "execute_result"
    }
   ],
   "source": [
    "base_config"
   ]
  },
  {
   "cell_type": "code",
   "execution_count": 6,
   "metadata": {},
   "outputs": [
    {
     "name": "stderr",
     "output_type": "stream",
     "text": [
      "2025-06-26 17:02:21,749 - mmm_eval.core.validation_test_orchestrator - INFO - Running test: accuracy\n",
      "2025-06-26 17:02:21,750 - mmm_eval.core.base_validation_test - INFO - Splitting data into train and test sets for accuracy test\n",
      "There were 3 divergences after tuning. Increase `target_accept` or reparameterize.\n",
      "2025-06-26 17:02:29,358 - pymc.stats.convergence - ERROR - There were 3 divergences after tuning. Increase `target_accept` or reparameterize.\n",
      "2025-06-26 17:02:29,363 - mmm_eval.adapters.experimental.pymc - INFO - Computing channel contributions...\n",
      "2025-06-26 17:02:29,372 - mmm_eval.adapters.experimental.pymc - INFO - Predicting...\n",
      "2025-06-26 17:02:29,800 - mmm_eval.core.validation_tests - INFO - Saving the test results for accuracy test\n",
      "2025-06-26 17:02:29,801 - mmm_eval.core.validation_test_orchestrator - INFO - Running test: cross_validation\n",
      "2025-06-26 17:02:29,801 - mmm_eval.core.base_validation_test - INFO - Splitting data into train and test sets for cross_validation test\n",
      "2025-06-26 17:02:29,801 - mmm_eval.core.validation_tests - INFO - Running cross-validation fold 1 of 5\n",
      "There were 1 divergences after tuning. Increase `target_accept` or reparameterize.\n",
      "2025-06-26 17:02:36,073 - pymc.stats.convergence - ERROR - There were 1 divergences after tuning. Increase `target_accept` or reparameterize.\n",
      "2025-06-26 17:02:36,077 - mmm_eval.adapters.experimental.pymc - INFO - Computing channel contributions...\n",
      "2025-06-26 17:02:36,086 - mmm_eval.adapters.experimental.pymc - INFO - Predicting...\n",
      "2025-06-26 17:02:36,508 - mmm_eval.core.validation_tests - INFO - Running cross-validation fold 2 of 5\n",
      "2025-06-26 17:02:42,934 - mmm_eval.adapters.experimental.pymc - INFO - Computing channel contributions...\n",
      "2025-06-26 17:02:42,949 - mmm_eval.adapters.experimental.pymc - INFO - Predicting...\n",
      "2025-06-26 17:02:43,663 - mmm_eval.core.validation_tests - INFO - Running cross-validation fold 3 of 5\n",
      "2025-06-26 17:02:50,294 - mmm_eval.adapters.experimental.pymc - INFO - Computing channel contributions...\n",
      "2025-06-26 17:02:50,302 - mmm_eval.adapters.experimental.pymc - INFO - Predicting...\n",
      "2025-06-26 17:02:50,720 - mmm_eval.core.validation_tests - INFO - Running cross-validation fold 4 of 5\n",
      "There were 4 divergences after tuning. Increase `target_accept` or reparameterize.\n",
      "2025-06-26 17:02:57,077 - pymc.stats.convergence - ERROR - There were 4 divergences after tuning. Increase `target_accept` or reparameterize.\n",
      "2025-06-26 17:02:57,082 - mmm_eval.adapters.experimental.pymc - INFO - Computing channel contributions...\n",
      "2025-06-26 17:02:57,091 - mmm_eval.adapters.experimental.pymc - INFO - Predicting...\n",
      "2025-06-26 17:02:57,521 - mmm_eval.core.validation_tests - INFO - Running cross-validation fold 5 of 5\n",
      "There were 2 divergences after tuning. Increase `target_accept` or reparameterize.\n",
      "2025-06-26 17:03:04,194 - pymc.stats.convergence - ERROR - There were 2 divergences after tuning. Increase `target_accept` or reparameterize.\n",
      "2025-06-26 17:03:04,201 - mmm_eval.adapters.experimental.pymc - INFO - Computing channel contributions...\n",
      "2025-06-26 17:03:04,210 - mmm_eval.adapters.experimental.pymc - INFO - Predicting...\n",
      "2025-06-26 17:03:04,637 - mmm_eval.core.validation_tests - INFO - Saving the test results for cross_validation test\n",
      "2025-06-26 17:03:04,637 - mmm_eval.core.validation_test_orchestrator - INFO - Running test: refresh_stability\n",
      "2025-06-26 17:03:04,638 - mmm_eval.core.base_validation_test - INFO - Splitting data into train and test sets for refresh_stability test\n",
      "2025-06-26 17:03:04,638 - mmm_eval.core.validation_tests - INFO - Running refresh stability test fold 1 of 5\n",
      "There were 1 divergences after tuning. Increase `target_accept` or reparameterize.\n",
      "2025-06-26 17:03:11,049 - pymc.stats.convergence - ERROR - There were 1 divergences after tuning. Increase `target_accept` or reparameterize.\n",
      "2025-06-26 17:03:11,054 - mmm_eval.adapters.experimental.pymc - INFO - Computing channel contributions...\n",
      "There were 2 divergences after tuning. Increase `target_accept` or reparameterize.\n",
      "2025-06-26 17:03:17,341 - pymc.stats.convergence - ERROR - There were 2 divergences after tuning. Increase `target_accept` or reparameterize.\n",
      "2025-06-26 17:03:17,348 - mmm_eval.adapters.experimental.pymc - INFO - Computing channel contributions...\n",
      "2025-06-26 17:03:17,358 - mmm_eval.core.validation_tests - INFO - Running refresh stability test fold 2 of 5\n",
      "There were 2 divergences after tuning. Increase `target_accept` or reparameterize.\n",
      "2025-06-26 17:03:23,623 - pymc.stats.convergence - ERROR - There were 2 divergences after tuning. Increase `target_accept` or reparameterize.\n",
      "2025-06-26 17:03:23,629 - mmm_eval.adapters.experimental.pymc - INFO - Computing channel contributions...\n",
      "2025-06-26 17:03:29,989 - mmm_eval.adapters.experimental.pymc - INFO - Computing channel contributions...\n",
      "2025-06-26 17:03:29,998 - mmm_eval.core.validation_tests - INFO - Running refresh stability test fold 3 of 5\n",
      "There were 3 divergences after tuning. Increase `target_accept` or reparameterize.\n",
      "2025-06-26 17:03:36,378 - pymc.stats.convergence - ERROR - There were 3 divergences after tuning. Increase `target_accept` or reparameterize.\n",
      "2025-06-26 17:03:36,384 - mmm_eval.adapters.experimental.pymc - INFO - Computing channel contributions...\n",
      "There were 1 divergences after tuning. Increase `target_accept` or reparameterize.\n",
      "2025-06-26 17:03:42,740 - pymc.stats.convergence - ERROR - There were 1 divergences after tuning. Increase `target_accept` or reparameterize.\n",
      "2025-06-26 17:03:42,746 - mmm_eval.adapters.experimental.pymc - INFO - Computing channel contributions...\n",
      "2025-06-26 17:03:42,755 - mmm_eval.core.validation_tests - INFO - Running refresh stability test fold 4 of 5\n",
      "There were 5 divergences after tuning. Increase `target_accept` or reparameterize.\n",
      "2025-06-26 17:03:49,060 - pymc.stats.convergence - ERROR - There were 5 divergences after tuning. Increase `target_accept` or reparameterize.\n",
      "2025-06-26 17:03:49,065 - mmm_eval.adapters.experimental.pymc - INFO - Computing channel contributions...\n",
      "There were 4 divergences after tuning. Increase `target_accept` or reparameterize.\n",
      "2025-06-26 17:03:55,579 - pymc.stats.convergence - ERROR - There were 4 divergences after tuning. Increase `target_accept` or reparameterize.\n",
      "2025-06-26 17:03:55,585 - mmm_eval.adapters.experimental.pymc - INFO - Computing channel contributions...\n",
      "2025-06-26 17:03:55,594 - mmm_eval.core.validation_tests - INFO - Running refresh stability test fold 5 of 5\n",
      "There were 8 divergences after tuning. Increase `target_accept` or reparameterize.\n",
      "2025-06-26 17:04:02,345 - pymc.stats.convergence - ERROR - There were 8 divergences after tuning. Increase `target_accept` or reparameterize.\n",
      "2025-06-26 17:04:02,352 - mmm_eval.adapters.experimental.pymc - INFO - Computing channel contributions...\n",
      "There were 2 divergences after tuning. Increase `target_accept` or reparameterize.\n",
      "2025-06-26 17:04:09,136 - pymc.stats.convergence - ERROR - There were 2 divergences after tuning. Increase `target_accept` or reparameterize.\n",
      "2025-06-26 17:04:09,142 - mmm_eval.adapters.experimental.pymc - INFO - Computing channel contributions...\n",
      "2025-06-26 17:04:09,153 - mmm_eval.core.validation_tests - INFO - Saving the test results for refresh_stability test\n",
      "2025-06-26 17:04:09,154 - mmm_eval.core.validation_test_orchestrator - INFO - Running test: perturbation\n",
      "There were 3 divergences after tuning. Increase `target_accept` or reparameterize.\n",
      "2025-06-26 17:04:15,740 - pymc.stats.convergence - ERROR - There were 3 divergences after tuning. Increase `target_accept` or reparameterize.\n",
      "2025-06-26 17:04:15,746 - mmm_eval.adapters.experimental.pymc - INFO - Computing channel contributions...\n",
      "There were 2 divergences after tuning. Increase `target_accept` or reparameterize.\n",
      "2025-06-26 17:04:22,405 - pymc.stats.convergence - ERROR - There were 2 divergences after tuning. Increase `target_accept` or reparameterize.\n",
      "2025-06-26 17:04:22,411 - mmm_eval.adapters.experimental.pymc - INFO - Computing channel contributions...\n",
      "2025-06-26 17:04:22,424 - mmm_eval.core.validation_tests - INFO - Saving the test results for perturbation test\n"
     ]
    }
   ],
   "source": [
    "results = run_evaluation(\"pymc-marketing\", data, base_config) "
   ]
  },
  {
   "cell_type": "code",
   "execution_count": null,
   "metadata": {},
   "outputs": [],
   "source": []
  }
 ],
 "metadata": {
  "kernelspec": {
   "display_name": ".venv",
   "language": "python",
   "name": "python3"
  },
  "language_info": {
   "codemirror_mode": {
    "name": "ipython",
    "version": 3
   },
   "file_extension": ".py",
   "mimetype": "text/x-python",
   "name": "python",
   "nbconvert_exporter": "python",
   "pygments_lexer": "ipython3",
   "version": "3.11.8"
  }
 },
 "nbformat": 4,
 "nbformat_minor": 2
}
