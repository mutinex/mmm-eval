{
 "cells": [
  {
   "cell_type": "code",
   "execution_count": 1,
   "metadata": {},
   "outputs": [],
   "source": [
    "%load_ext autoreload\n",
    "%autoreload 2\n",
    "\n",
    "import pandas as pd\n",
    "\n",
    "from pymc_marketing.mmm import MMM, GeometricAdstock, LogisticSaturation\n",
    "from mmm_eval.data.synth_data_generator import generate_data\n",
    "from mmm_eval.configs import PyMCConfig\n",
    "from pymc_marketing.prior import Prior\n",
    "from mmm_eval import run_evaluation"
   ]
  },
  {
   "cell_type": "code",
   "execution_count": 2,
   "metadata": {},
   "outputs": [],
   "source": [
    "data = generate_data()\n",
    "\n",
    "X = data.drop(columns=[\"revenue\",\"quantity\"])\n",
    "y = data[\"quantity\"]"
   ]
  },
  {
   "cell_type": "code",
   "execution_count": 3,
   "metadata": {},
   "outputs": [],
   "source": [
    "base_model = MMM(\n",
    "    date_column=\"date_week\" ,\n",
    "    channel_columns=[\"channel_1\",\"channel_2\"],\n",
    "    adstock=GeometricAdstock(l_max=4),\n",
    "    saturation=LogisticSaturation()\n",
    ")\n",
    "\n",
    "# base_model.fit(X=X, y=y, chains=4, target_accept=0.85)\n",
    "\n"
   ]
  },
  {
   "cell_type": "code",
   "execution_count": 4,
   "metadata": {},
   "outputs": [],
   "source": [
    "# We dont need X and y - we'll get those from the input data!\n",
    "fit_kwargs = { \n",
    "    \"chains\": 4,\n",
    "    \"target_accept\": 0.85,\n",
    "}\n",
    "\n",
    "base_config = PyMCConfig.from_model_object(base_model, fit_kwargs=fit_kwargs, response_column=\"quantity\", revenue_column=\"revenue\")"
   ]
  },
  {
   "cell_type": "code",
   "execution_count": null,
   "metadata": {},
   "outputs": [],
   "source": [
    "results = run_evaluation(\"pymc-marketing\", data, base_config) "
   ]
  }
 ],
 "metadata": {
  "kernelspec": {
   "display_name": ".venv",
   "language": "python",
   "name": "python3"
  },
  "language_info": {
   "codemirror_mode": {
    "name": "ipython",
    "version": 3
   },
   "file_extension": ".py",
   "mimetype": "text/x-python",
   "name": "python",
   "nbconvert_exporter": "python",
   "pygments_lexer": "ipython3",
   "version": "3.11.8"
  }
 },
 "nbformat": 4,
 "nbformat_minor": 2
}
